{
 "cells": [
  {
   "cell_type": "code",
   "execution_count": 4,
   "metadata": {},
   "outputs": [
    {
     "name": "stdout",
     "output_type": "stream",
     "text": [
      "GIF created successfully!\n"
     ]
    }
   ],
   "source": [
    "from PIL import Image\n",
    "import os\n",
    "\n",
    "# Define the folder where the images are stored\n",
    "folder_path = \"Imagens_RRT\"\n",
    "\n",
    "# Get all image files in the folder\n",
    "image_files = [f\"{i}.png\" for i in range(1, 50)]  # Adjust the range as needed\n",
    "\n",
    "# Create a list to store the images\n",
    "images = []\n",
    "\n",
    "# Open each image and append to the list\n",
    "for image_file in image_files:\n",
    "    img_path = os.path.join(folder_path, image_file)\n",
    "    images.append(Image.open(img_path))\n",
    "\n",
    "# Save the images as a GIF\n",
    "images[0].save(\n",
    "    \"RRT_git.gif\",\n",
    "    save_all=True,\n",
    "    append_images=images[1:],\n",
    "    duration=200,  # Duration between frames in milliseconds\n",
    "    loop=0  # 0 means infinite loop\n",
    ")\n",
    "\n",
    "print(\"GIF created successfully!\")"
   ]
  }
 ],
 "metadata": {
  "kernelspec": {
   "display_name": "Python 3",
   "language": "python",
   "name": "python3"
  },
  "language_info": {
   "codemirror_mode": {
    "name": "ipython",
    "version": 3
   },
   "file_extension": ".py",
   "mimetype": "text/x-python",
   "name": "python",
   "nbconvert_exporter": "python",
   "pygments_lexer": "ipython3",
   "version": "3.8.10"
  }
 },
 "nbformat": 4,
 "nbformat_minor": 2
}
